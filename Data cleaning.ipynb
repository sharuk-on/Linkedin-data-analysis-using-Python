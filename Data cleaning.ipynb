{
 "cells": [
  {
   "cell_type": "code",
   "execution_count": 1,
   "id": "c7f241bb-3202-4384-a944-bc1effe462e8",
   "metadata": {},
   "outputs": [],
   "source": [
    "import pandas as pd\n",
    "import numpy as np\n",
    "import re\n",
    "\n",
    "# 29 November 2021\n",
    "# Opening file\n",
    "before_cleaning=pd.read_csv(r'LinkedIn Dataset.csv')\n",
    "df=before_cleaning.copy()\n",
    "\n",
    "# Naming Columns\n",
    "col=['Role','Company','Location','Time posted','No of applicants','Level','Job type','Job function','Industry']\n",
    "df.columns=col\n",
    "\n",
    "# Company\n",
    "df['Company']=df['Company'].apply(lambda x: x.replace(' ','',16).split('\\n')[1])\n",
    "\n",
    "# Location\n",
    "df['Location']=df['Location'].apply(lambda x: x.replace(' ','',14).split('\\n')[1])\n",
    "\n",
    "# Time Posted\n",
    "    # Replacing missing value\n",
    "df['Time posted'].fillna(0, inplace=True)\n",
    "    # Cleaning data\n",
    "df['Time posted']=df['Time posted'].apply(lambda x: x.split('\\n')[-3].replace(' ','',4) if (type(x)!=int) else 0)\n",
    "\n",
    "# Level\n",
    "# Using regular expression\n",
    "df['Level']=df['Level'].apply(lambda x: re.findall('[\\w-]+[ ]?\\w+',x)[0])\n",
    "\n",
    "# Job type\n",
    "    # Replacing missing value\n",
    "    # Cleaning data\n",
    "df['Job type']=df['Job type'].apply(lambda x: x.replace(' ','',10).split('\\n')[1] if type(x)==str else ('Not mentioned'))\n",
    "\n",
    "# Job function\n",
    "    # Replacing missing value\n",
    "    # Cleaning data\n",
    "df['Job function']=df['Job function'].apply(lambda x: x.replace(' ','',12).split('\\n')[1] if (type(x)!=float) else 'Not mentioned')\n",
    "\n",
    "# Industry\n",
    "    # Replacing missing value\n",
    "    # Cleaning data\n",
    "df['Industry']=df['Industry'].apply(lambda x: x.replace(' ','',10).split('\\n')[1] if (type(x)!=float) else 'Not mentioned')\n",
    "\n",
    "# No. of applicants\n",
    "del df['No of applicants']\n",
    "# since over 70% of data in No.applicant are 'nan', it was dropped"
   ]
  },
  {
   "cell_type": "code",
   "execution_count": null,
   "id": "00faac09-7e1e-4253-81a5-e7e7253aaec9",
   "metadata": {},
   "outputs": [],
   "source": [
    "before_cleaning.head()"
   ]
  },
  {
   "cell_type": "code",
   "execution_count": null,
   "id": "f60ff513-ffae-4489-85dc-da43e351db55",
   "metadata": {},
   "outputs": [],
   "source": [
    "# after cleaning\n",
    "df.head()"
   ]
  },
  {
   "cell_type": "code",
   "execution_count": 42,
   "id": "9bc3762c-8f4e-4452-98a2-ccc1804deeef",
   "metadata": {},
   "outputs": [],
   "source": [
    "# Exporting dataset\n",
    "df.to_csv('Cleaned dataset.csv',index=False)"
   ]
  },
  {
   "cell_type": "code",
   "execution_count": null,
   "id": "d3dd8c9e-8d7a-456d-89de-27a7cc2a6ccb",
   "metadata": {},
   "outputs": [],
   "source": []
  }
 ],
 "metadata": {
  "kernelspec": {
   "display_name": "Python 3 (ipykernel)",
   "language": "python",
   "name": "python3"
  },
  "language_info": {
   "codemirror_mode": {
    "name": "ipython",
    "version": 3
   },
   "file_extension": ".py",
   "mimetype": "text/x-python",
   "name": "python",
   "nbconvert_exporter": "python",
   "pygments_lexer": "ipython3",
   "version": "3.9.7"
  }
 },
 "nbformat": 4,
 "nbformat_minor": 5
}
